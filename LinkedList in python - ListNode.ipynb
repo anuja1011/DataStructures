{
 "cells": [
  {
   "cell_type": "markdown",
   "metadata": {},
   "source": [
    "The Python language does not contain a pre-defined datatype for linked lists. To cope with this situation we either have to create our own data type, or have to make use of additional Python modules that provide an implementation of such a data type."
   ]
  },
  {
   "cell_type": "code",
   "execution_count": null,
   "metadata": {},
   "outputs": [],
   "source": [
    "class ListNode:\n",
    "    #ListNode has a constructor to build a node with data|ref and a function boolean has_value()\n",
    "    def __init__(self,data):\n",
    "        self.data = data\n",
    "        self.next = value\n",
    "        return\n",
    "    \n",
    "    def has_value(self, value):\n",
    "        #\"method to compare the value with the node data\"\n",
    "        if self.data == value:\n",
    "            return True\n",
    "        else:\n",
    "            return False\n",
    "        \n",
    "        \n",
    "        \n",
    "class SingleLinkedList:\n",
    "    def __init__(self):\n",
    "        #\"constructor to initiate this object\"\n",
    "        \n",
    "        self.head = None\n",
    "        self.tail = None\n",
    "        return\n",
    "    \n",
    "    def add_list_item(self, item):\n",
    "        #add an item at the end of the list\n",
    "        \n",
    "        ##checking if the input to this fuction is of type ListNode or not\n",
    "        if not isinstance(item,ListNode):\n",
    "            item = ListNode(item)\n",
    "            \n",
    "        if self.head is None:\n",
    "            self.head = item\n",
    "            \n",
    "        else:\n",
    "            self.tail.next = item\n",
    "            \n",
    "        self.tail = item\n",
    "        \n",
    "    def list_length(self):\n",
    "        # returns no. of items in a list\n",
    "        \n",
    "        if self.head is None:\n",
    "            return 0\n",
    "        \n",
    "        current_node = self.head\n",
    "        counter = 0\n",
    "        \n",
    "        while current_node is not None:\n",
    "            counter = counter + 1\n",
    "            current_node = current_node.next\n",
    "        \n",
    "\n",
    "            \n"
   ]
  }
 ],
 "metadata": {
  "kernelspec": {
   "display_name": "Python 3",
   "language": "python",
   "name": "python3"
  },
  "language_info": {
   "codemirror_mode": {
    "name": "ipython",
    "version": 3
   },
   "file_extension": ".py",
   "mimetype": "text/x-python",
   "name": "python",
   "nbconvert_exporter": "python",
   "pygments_lexer": "ipython3",
   "version": "3.7.3"
  }
 },
 "nbformat": 4,
 "nbformat_minor": 2
}
